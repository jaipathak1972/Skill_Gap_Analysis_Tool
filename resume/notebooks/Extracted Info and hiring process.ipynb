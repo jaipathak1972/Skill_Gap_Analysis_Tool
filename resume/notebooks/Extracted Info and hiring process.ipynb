{
 "cells": [
  {
   "cell_type": "markdown",
   "id": "25904311",
   "metadata": {},
   "source": [
    "# Extracting Text from Resumes\n",
    "The first step in resume parsing is to extract the text from resumes in various formats, such as PDF or Word documents. We’ll be using the pdfminer.six library to extract text from PDF resumes. Here’s a function that takes a PDF file path as input and returns the extracted text:"
   ]
  },
  {
   "cell_type": "code",
   "execution_count": 32,
   "id": "53e123ef",
   "metadata": {},
   "outputs": [
    {
     "data": {
      "text/plain": [
       "'Lauki Laal\\n“Power BI user group member” “First Rank – Datathon-2021, Banana University”\\n\\n| +1 111-111-1111; abc@xyz.com | https://www.linkedin.com/in/lauki-lal\\n\\nEDUCATION\\nThe Banana University, New York.\\nMasters in Data Analytics\\nVIT Vellore, India.\\nB.E., Computer Science\\n\\nSKILLS\\n\\nSpring 2021\\nJune 2015\\n\\nAnalytical Tools: Power BI, Tableau, Advanced Excel, SAS EM, SAP Business Objects, Crystal Reports\\nProgramming Languages: SQL, Apache Hive – HQL, HTML, CSS\\nSoftware’s: JIRA, Nexus Query Chameleon, SAP NetWeaver, Netezza, SSIS, MS Project, JIRA, Kanban board\\nDatabase: MySQL, Microsoft SQL Server, IBM Netezza\\nCore Competencies: Communication - Secretary of Toastmasters club. Presentation Skills: Spoke at PyData (2021)\\n\\nBUSINESS EXPERIENCE\\nCHARLES SCHWAB & CO.\\nDigital Services Analyst Intern - Analytics Business Insights\\n\\nMay 2019 – Aug 2019\\n\\n•\\n\\n•\\n\\n•\\n\\n•\\n\\nConducted the Root Cause Analysis of bad data and queried approx. 1M records loaded into the Big Data\\nEnvironment with the help of Hive QL in Nexus Query Chameleon replicating the Adobe Data Structure.\\nImplemented innovative approach to convert HQL scripts to SQL using Custom SQL Editor of Tableau &\\nperformed analysis, producing quantitative visualizations in Tableau to help manage performance.\\nAutomated these Web Analytics Dashboards with the help of UNIX and Report Tracker, which ran through\\nmanual intervention before, saving 87% of the time and saving approximately $2.5M.\\nCommunicated and presented insights clearly and compellingly to senior leadership of the organization.\\n\\nTATA CONSULTANCY SERVICES.\\n(I) SQL Analyst – Client, Bank of Montreal (Pune, India)\\n\\n•\\n\\n•\\n\\nAug 2015 – May 2018\\nDeveloped ETL Mappings using Netezza SQL to extract the data from unstructured data and transformed it\\nto the Staging area, EDW and then to the Data Marts (OLAP DB) for approximately 10,000 records.\\nDesigned 167 SQL QA queries from source to target tables based on transformation rules and lookup tables\\ncomparing business and production data with efficiency of 99%.\\n\\n(II) Data Analyst– Client, DELL-EMC (Bangalore, India)\\n\\n•\\n\\nAnalyzed dataset in MS Excel and collaborated with Automation, Finance, Accounting, and IT Operations to\\ngather and prioritize their business requirements for Dell’s Purchasing and Sales order system.\\n\\nACADEMIC PROJECT\\nCloud Technologies, Cloud Computing (AWS)\\n\\nAug 2019 – Present\\n\\n• Using AWS Cloud formation building a public cloud including a production Webserver.\\nSimulating an Internet invasion into the webserver, compromising the EC2 instance.\\n•\\nIntegrating AWS cloud security services for automatically notifying security team via email to take actions.\\n•\\n\\n•\\n\\nMobile Application for Bank, Agile Project Management\\n\\nJune 2019 – July 2019\\nDeveloped a Scrum project by building Project Charter, Product Backlog, Product Release Plan, Sprint\\nPlanning, implementing in JIRA and CONFLUENECE and preparing Gantt Chart in MS Project for each Activity.\\nAug 2018 – Dec 2018\\n\\nAirbnb Data Analysis, Business Analytics with SAS\\n\\n•\\n•\\n\\nImplementation of data mining techniques to gain insights in business, helping Airbnb to rise in the market.\\nBuilt Models using Decision tree, Neural Networks, Logistic Regression to analyze KPI’s behind the\\ndetermination of price of a room for the new hosts and predicted about 19% profit.\\n\\nStatistical Analysis using EXCEL\\n\\nAug 2018 – Sept 2018\\n\\nEvaluated sample data set using outlier analysis, boxplots, V-lookup, Chi-square, Normal and T-Distribution.\\n\\n•\\n\\n\\x0c'"
      ]
     },
     "execution_count": 32,
     "metadata": {},
     "output_type": "execute_result"
    }
   ],
   "source": [
    "import re\n",
    "from pdfminer.high_level import extract_text\n",
    "\n",
    "def extract_text_from_pdf(pdf_path):\n",
    "    return extract_text(pdf_path)\n",
    "\n",
    "\n",
    "resume_path = r\"C:\\Users\\Dell\\OneDrive\\Desktop\\advance web scraping\\Nakri_data_set\\Skill_Gap_Analysis_Tool\\resume\\data\\fresher_1_page_resume.pdf\"\n",
    "text = extract_text_from_pdf(resume_path)\n",
    "text"
   ]
  },
  {
   "cell_type": "markdown",
   "id": "3869cab2",
   "metadata": {},
   "source": [
    "# Extracting Contact Information\n",
    "\n",
    "\n",
    "Contact information, including phone numbers, email addresses, and physical addresses, is crucial for reaching out to potential candidates. Extracting this information accurately is an essential part of resume parsing. We can use regular expressions to match patterns and extract contact information.\n",
    "\n",
    "# Function to Extract\n",
    "\n",
    "\n",
    "Let’s define a function to extract a contact number from the resume text:"
   ]
  },
  {
   "cell_type": "code",
   "execution_count": 13,
   "id": "4795cd19",
   "metadata": {},
   "outputs": [
    {
     "data": {
      "text/plain": [
       "'91-7838294963'"
      ]
     },
     "execution_count": 13,
     "metadata": {},
     "output_type": "execute_result"
    }
   ],
   "source": [
    "import re\n",
    "\n",
    "def extract_contact_number_from_resume(text):\n",
    "    contact_number = None\n",
    "\n",
    "    # Use regex pattern to find a potential contact number\n",
    "    pattern = r\"\\b(?:\\+?\\d{1,3}[-.\\s]?)?\\(?\\d{3}\\)?[-.\\s]?\\d{3}[-.\\s]?\\d{4}\\b\"\n",
    "    match = re.search(pattern, text)\n",
    "    if match:\n",
    "        contact_number = match.group()\n",
    "\n",
    "    return contact_number\n",
    "\n",
    "phone = extract_contact_number_from_resume(text)\n",
    "phone"
   ]
  },
  {
   "cell_type": "markdown",
   "id": "73ce6ac7",
   "metadata": {},
   "source": [
    "# Extracting Email Address\n",
    "In addition to the contact number, extracting the email address is vital for communication with candidates. We can again use regular expressions to match patterns and extract the email address. Here’s a function to extract the email address from the resume text:"
   ]
  },
  {
   "cell_type": "code",
   "execution_count": 14,
   "id": "eb4cea3c",
   "metadata": {},
   "outputs": [
    {
     "name": "stdout",
     "output_type": "stream",
     "text": [
      "Pattern: \\b(?:Adaptability|Analytical\\ Thinking|Attention\\ to\\ Detail|Collaboration|Communication|Conflict\\ Resolution|Creativity|Critical\\ Thinking|Decision\\ Making|Emotional\\ Intelligence|Empathy|Flexibility|Interpersonal\\ Skills|Leadership|Listening|Negotiation|Networking|Open\\-Mindedness|Organization|Patience|Persuasion|Problem\\ Solving|Public\\ Speaking|Resourcefulness|Self\\-Motivation|Teamwork|Time\\ Management|Work\\ Ethic|Positive\\ Attitude|Stress\\ Management|Resilience|Initiative|Adaptability|Collaboration|Integrity|Multitasking|Dependability|Dedication|Determination|Discipline|Energy|Innovation|Insight|Enthusiasm|Honesty|Influencing|Optimism|Perseverance|Proactivity|Professionalism|Punctuality|Respectfulness|Responsibility|Self\\-Awareness|Self\\-Confidence|Self\\-Discipline|Self\\-Management|Strategic\\ Thinking|Tactfulness|Tenacity|Thoroughness|Trustworthiness|Work\\ Under\\ Pressure|Adaptability\\ to\\ Change|Assertiveness|Business\\ Acumen|Client\\ Management|Coaching|Competitiveness|Computer\\ Literacy|Continuous\\ Improvement|Cultural\\ Awareness|Customer\\ Service|Delegation|Detail\\ Orientation|Diplomacy|Diversity\\ Awareness|Event\\ Planning|Facilitation|Follow\\-Through|Goal\\ Setting|Independence|Influence|Initiative|Innovation\\ Management|Intuition|Judgment|Logical\\ Thinking|Market\\ Awareness|Mentoring|Motivating\\ Others|Negotiating\\ Skills|Nonverbal\\ Communication|Objective\\ Thinking|Oral\\ Communication|Organization\\ Skills|People\\ Skills|Performance\\ Management|Personal\\ Accountability|Persuasiveness|Planning|Prioritization|Project\\ Management|Providing\\ Feedback|Reading\\ Body\\ Language|Relationship\\ Building|Results\\ Orientation|Risk\\ Management|Scheduling|Self\\-Assessment|Self\\-Critique|Selling\\ Skills|Sensitivity|Service\\ Orientation|Situational\\ Awareness|Social\\ Intelligence|Stakeholder\\ Management|Storytelling|Supervision|Systems\\ Thinking|Talent\\ Management|Task\\ Management|Technical\\ Writing|Training|Verbal\\ Communication|Visual\\ Communication|Volunteer\\ Management|Work\\ Ethic|Written\\ Communication|Adaptability\\ to\\ New\\ Technology|Assertive\\ Communication|Awareness\\ of\\ Others|Benchmarking|Brand\\ Management|Business\\ Development|Client\\ Relations|Collaborative\\ Problem\\ Solving|Competitive\\ Analysis|Conceptual\\ Thinking|Conflict\\ Management|Consensus\\ Building|Constructive\\ Criticism|Consulting|Contract\\ Negotiation|Cost\\ Control|Creative\\ Thinking|Crisis\\ Management|Customer\\ Retention|Customer\\ Relationship\\ Management|Data\\ Analysis|Data\\ Interpretation|Data\\ Presentation|Decision\\-Making\\ Skills|Emotional\\ Regulation|Empowering\\ Others|Endurance|Ethical\\ Judgment|Event\\ Coordination|Executive\\ Presence|Facilitating\\ Discussions|Financial\\ Acumen|Forecasting|Global\\ Mindset|Goal\\ Achievement|Group\\ Dynamics|Growth\\ Mindset|Influence\\ and\\ Persuasion|Information\\ Management|Initiating\\ Action|Intellectual\\ Curiosity|Intercultural\\ Communication|Interdisciplinary\\ Approach|Knowledge\\ Sharing|Leadership\\ Development|Learning\\ Agility|Listening\\ Skills|Managing\\ Ambiguity|Managing\\ Expectations|Managing\\ Upwards|Meeting\\ Facilitation|Mentorship|Multi\\-Cultural\\ Competence|Networking\\ Skills|Organizational\\ Agility|Performance\\ Improvement|Personal\\ Branding|Persuasive\\ Communication|Presentation\\ Skills|Prioritizing\\ Tasks|Process\\ Improvement|Professional\\ Networking|Public\\ Relations|Quality\\ Focus|Reflective\\ Practice|Resilient\\ Leadership|Respect\\ for\\ Diversity|Scenario\\ Planning|Self\\-Reflection|Service\\ Excellence|Situational\\ Leadership|Social\\ Media\\ Literacy|Stakeholder\\ Engagement|Strategic\\ Leadership|Sustainability\\ Awareness|Talent\\ Development|Team\\ Development|Technical\\ Communication|Transformational\\ Leadership|User\\ Experience\\ Awareness|Virtual\\ Collaboration|Visionary\\ Thinking|Wellness\\ Management|Work\\-Life\\ Balance)\\b\n",
      "Matches: ['communication', 'data analysis', 'Integrity', 'work ethic', 'positive attitude']\n"
     ]
    },
    {
     "data": {
      "text/plain": [
       "['work ethic',\n",
       " 'positive attitude',\n",
       " 'data analysis',\n",
       " 'Integrity',\n",
       " 'communication']"
      ]
     },
     "execution_count": 14,
     "metadata": {},
     "output_type": "execute_result"
    }
   ],
   "source": [
    "def extract_soft_skill(text):\n",
    "    softskill = []\n",
    "\n",
    "    softskill_keyword  =[\"Adaptability\", \"Analytical Thinking\", \"Attention to Detail\", \"Collaboration\", \n",
    "    \"Communication\", \"Conflict Resolution\", \"Creativity\", \"Critical Thinking\", \n",
    "    \"Decision Making\", \"Emotional Intelligence\", \"Empathy\", \"Flexibility\", \n",
    "    \"Interpersonal Skills\", \"Leadership\", \"Listening\", \"Negotiation\", \"Networking\", \n",
    "    \"Open-Mindedness\", \"Organization\", \"Patience\", \"Persuasion\", \"Problem Solving\", \n",
    "    \"Public Speaking\", \"Resourcefulness\", \"Self-Motivation\", \"Teamwork\", \"Time Management\", \n",
    "    \"Work Ethic\", \"Positive Attitude\", \"Stress Management\", \"Resilience\", \"Initiative\", \n",
    "    \"Adaptability\", \"Collaboration\", \"Integrity\", \"Multitasking\", \"Dependability\", \n",
    "    \"Dedication\", \"Determination\", \"Discipline\", \"Energy\", \"Innovation\", \"Insight\", \n",
    "    \"Enthusiasm\", \"Honesty\", \"Influencing\", \"Optimism\", \"Perseverance\", \"Proactivity\", \n",
    "    \"Professionalism\", \"Punctuality\", \"Respectfulness\", \"Responsibility\", \"Self-Awareness\", \n",
    "    \"Self-Confidence\", \"Self-Discipline\", \"Self-Management\", \"Strategic Thinking\", \n",
    "    \"Tactfulness\", \"Tenacity\", \"Thoroughness\", \"Trustworthiness\", \"Work Under Pressure\", \n",
    "    \"Adaptability to Change\", \"Assertiveness\", \"Business Acumen\", \"Client Management\", \n",
    "    \"Coaching\", \"Competitiveness\", \"Computer Literacy\", \"Continuous Improvement\", \n",
    "    \"Cultural Awareness\", \"Customer Service\", \"Delegation\", \"Detail Orientation\", \n",
    "    \"Diplomacy\", \"Diversity Awareness\", \"Event Planning\", \"Facilitation\", \"Follow-Through\", \n",
    "    \"Goal Setting\", \"Independence\", \"Influence\", \"Initiative\", \"Innovation Management\", \n",
    "    \"Intuition\", \"Judgment\", \"Logical Thinking\", \"Market Awareness\", \"Mentoring\", \n",
    "    \"Motivating Others\", \"Negotiating Skills\", \"Nonverbal Communication\", \"Objective Thinking\", \n",
    "    \"Oral Communication\", \"Organization Skills\", \"People Skills\", \"Performance Management\", \n",
    "    \"Personal Accountability\", \"Persuasiveness\", \"Planning\", \"Prioritization\", \"Project Management\", \n",
    "    \"Providing Feedback\", \"Reading Body Language\", \"Relationship Building\", \"Results Orientation\", \n",
    "    \"Risk Management\", \"Scheduling\", \"Self-Assessment\", \"Self-Critique\", \"Selling Skills\", \n",
    "    \"Sensitivity\", \"Service Orientation\", \"Situational Awareness\", \"Social Intelligence\", \n",
    "    \"Stakeholder Management\", \"Storytelling\", \"Supervision\", \"Systems Thinking\", \n",
    "    \"Talent Management\", \"Task Management\", \"Technical Writing\", \"Training\", \n",
    "    \"Verbal Communication\", \"Visual Communication\", \"Volunteer Management\", \"Work Ethic\", \n",
    "    \"Written Communication\", \"Adaptability to New Technology\", \"Assertive Communication\", \n",
    "    \"Awareness of Others\", \"Benchmarking\", \"Brand Management\", \"Business Development\", \n",
    "    \"Client Relations\", \"Collaborative Problem Solving\", \"Competitive Analysis\", \"Conceptual Thinking\", \n",
    "    \"Conflict Management\", \"Consensus Building\", \"Constructive Criticism\", \"Consulting\", \n",
    "    \"Contract Negotiation\", \"Cost Control\", \"Creative Thinking\", \"Crisis Management\", \n",
    "    \"Customer Retention\", \"Customer Relationship Management\", \"Data Analysis\", \"Data Interpretation\", \n",
    "    \"Data Presentation\", \"Decision-Making Skills\", \"Emotional Regulation\", \"Empowering Others\", \n",
    "    \"Endurance\", \"Ethical Judgment\", \"Event Coordination\", \"Executive Presence\", \"Facilitating Discussions\", \n",
    "    \"Financial Acumen\", \"Forecasting\", \"Global Mindset\", \"Goal Achievement\", \"Group Dynamics\", \n",
    "    \"Growth Mindset\", \"Influence and Persuasion\", \"Information Management\", \"Initiating Action\", \n",
    "    \"Intellectual Curiosity\", \"Intercultural Communication\", \"Interdisciplinary Approach\", \n",
    "    \"Knowledge Sharing\", \"Leadership Development\", \"Learning Agility\", \"Listening Skills\", \n",
    "    \"Managing Ambiguity\", \"Managing Expectations\", \"Managing Upwards\", \"Meeting Facilitation\", \n",
    "    \"Mentorship\", \"Multi-Cultural Competence\", \"Networking Skills\", \"Organizational Agility\", \n",
    "    \"Performance Improvement\", \"Personal Branding\", \"Persuasive Communication\", \"Presentation Skills\", \n",
    "    \"Prioritizing Tasks\", \"Process Improvement\", \"Professional Networking\", \"Public Relations\", \n",
    "    \"Quality Focus\", \"Reflective Practice\", \"Resilient Leadership\", \"Respect for Diversity\", \n",
    "    \"Scenario Planning\", \"Self-Reflection\", \"Service Excellence\", \"Situational Leadership\", \n",
    "    \"Social Media Literacy\", \"Stakeholder Engagement\", \"Strategic Leadership\", \"Sustainability Awareness\", \n",
    "    \"Talent Development\", \"Team Development\", \"Technical Communication\", \"Transformational Leadership\", \n",
    "    \"User Experience Awareness\", \"Virtual Collaboration\", \"Visionary Thinking\", \"Wellness Management\", \n",
    "    \"Work-Life Balance\"\n",
    "]\n",
    " # Join keywords into a single pattern, separated by \"|\"\n",
    "    pattern = r\"\\b(?:{})\\b\".format(\"|\".join(re.escape(keyword) for keyword in softskill_keyword))\n",
    "\n",
    "    matches = re.findall(pattern, text, re.IGNORECASE)\n",
    "    softskill = list(set(matches))  # Remove duplicates if any\n",
    "    print(\"Pattern:\", pattern)  # Debug print to see the pattern\n",
    "    print(\"Matches:\", matches)  # Debug print to see the matches\n",
    "\n",
    "    \n",
    "    return softskill\n",
    "\n",
    "extract_soft_skill = extract_soft_skill(text)\n",
    "extract_soft_skill"
   ]
  },
  {
   "cell_type": "code",
   "execution_count": 15,
   "id": "1bc1e09c",
   "metadata": {},
   "outputs": [
    {
     "data": {
      "text/plain": [
       "'ipathak552@gmail.com'"
      ]
     },
     "execution_count": 15,
     "metadata": {},
     "output_type": "execute_result"
    }
   ],
   "source": [
    "import re\n",
    "\n",
    "def extract_email_from_resume(text):\n",
    "    email = None\n",
    "\n",
    "    # Use regex pattern to find a potential email address\n",
    "    pattern = r\"\\b[A-Za-z0-9._%+-]+@[A-Za-z0-9.-]+\\.[A-Za-z]{2,}\\b\"\n",
    "    match = re.search(pattern, text)\n",
    "    if match:\n",
    "        email = match.group()\n",
    "\n",
    "    return email\n",
    "\n",
    "email = extract_email_from_resume(text)\n",
    "email"
   ]
  },
  {
   "cell_type": "markdown",
   "id": "a74a16b8",
   "metadata": {},
   "source": [
    "# Extracting Skills\n",
    "Identifying the skills mentioned in a resume is crucial for determining the candidate’s qualifications. We can create a list of relevant skills and match them against the resume text to extract the mentioned skills. Let’s define a function to extract skills from the resume text:"
   ]
  },
  {
   "cell_type": "code",
   "execution_count": 16,
   "id": "dbb25dda",
   "metadata": {},
   "outputs": [
    {
     "name": "stdout",
     "output_type": "stream",
     "text": [
      "Skills: ['Data Analysis', 'Communication', 'Research', 'R', 'Reporting']\n"
     ]
    }
   ],
   "source": [
    "import re\n",
    "\n",
    "def extract_skills_from_resume(text, skills_list):\n",
    "    skills = []\n",
    "\n",
    "    for skill in skills_list:\n",
    "        pattern = r\"\\b{}\\b\".format(re.escape(skill))\n",
    "        match = re.search(pattern, text, re.IGNORECASE)\n",
    "        if match:\n",
    "            skills.append(skill)\n",
    "\n",
    "    return skills\n",
    "\n",
    "\n",
    "# List of predefined skills\n",
    "skills_list = [\n",
    "    'Python', 'Data Analysis', 'Machine Learning', 'Communication', 'Project Management', 'Deep Learning', 'SQL', 'Tableau',\n",
    "    'Java', 'C++', 'JavaScript', 'HTML', 'CSS', 'React', 'Angular', 'Node.js', 'MongoDB', 'Express.js', 'Git',\n",
    "    'Research', 'Statistics', 'Quantitative Analysis', 'Qualitative Analysis', 'SPSS', 'R', 'Data Visualization', 'Matplotlib',\n",
    "    'Seaborn', 'Plotly', 'Pandas', 'Numpy', 'Scikit-learn', 'TensorFlow', 'Keras', 'PyTorch', 'NLTK', 'Text Mining',\n",
    "    'Natural Language Processing', 'Computer Vision', 'Image Processing', 'OCR', 'Speech Recognition', 'Recommendation Systems',\n",
    "    'Collaborative Filtering', 'Content-Based Filtering', 'Reinforcement Learning', 'Neural Networks', 'Convolutional Neural Networks',\n",
    "    'Recurrent Neural Networks', 'Generative Adversarial Networks', 'XGBoost', 'Random Forest', 'Decision Trees', 'Support Vector Machines',\n",
    "    'Linear Regression', 'Logistic Regression', 'K-Means Clustering', 'Hierarchical Clustering', 'DBSCAN', 'Association Rule Learning',\n",
    "    'Apache Hadoop', 'Apache Spark', 'MapReduce', 'Hive', 'HBase', 'Apache Kafka', 'Data Warehousing', 'ETL', 'Big Data Analytics',\n",
    "    'Cloud Computing', 'Amazon Web Services (AWS)', 'Microsoft Azure', 'Google Cloud Platform (GCP)', 'Docker', 'Kubernetes', 'Linux',\n",
    "    'Shell Scripting', 'Cybersecurity', 'Network Security', 'Penetration Testing', 'Firewalls', 'Encryption', 'Malware Analysis',\n",
    "    'Digital Forensics', 'CI/CD', 'DevOps', 'Agile Methodology', 'Scrum', 'Kanban', 'Continuous Integration', 'Continuous Deployment',\n",
    "    'Software Development', 'Web Development', 'Mobile Development', 'Backend Development', 'Frontend Development', 'Full-Stack Development',\n",
    "    'UI/UX Design', 'Responsive Design', 'Wireframing', 'Prototyping', 'User Testing', 'Adobe Creative Suite', 'Photoshop', 'Illustrator',\n",
    "    'InDesign', 'Figma', 'Sketch', 'Zeplin', 'InVision', 'Product Management', 'Market Research', 'Customer Development', 'Lean Startup',\n",
    "    'Business Development', 'Sales', 'Marketing', 'Content Marketing', 'Social Media Marketing', 'Email Marketing', 'SEO', 'SEM', 'PPC',\n",
    "    'Google Analytics', 'Facebook Ads', 'LinkedIn Ads', 'Lead Generation', 'Customer Relationship Management (CRM)', 'Salesforce',\n",
    "    'HubSpot', 'Zendesk', 'Intercom', 'Customer Support', 'Technical Support', 'Troubleshooting', 'Ticketing Systems', 'ServiceNow',\n",
    "    'ITIL', 'Quality Assurance', 'Manual Testing', 'Automated Testing', 'Selenium', 'JUnit', 'Load Testing', 'Performance Testing',\n",
    "    'Regression Testing', 'Black Box Testing', 'White Box Testing', 'API Testing', 'Mobile Testing', 'Usability Testing', 'Accessibility Testing',\n",
    "    'Cross-Browser Testing', 'Agile Testing', 'User Acceptance Testing', 'Software Documentation', 'Technical Writing', 'Copywriting',\n",
    "    'Editing', 'Proofreading', 'Content Management Systems (CMS)', 'WordPress', 'Joomla', 'Drupal', 'Magento', 'Shopify', 'E-commerce',\n",
    "    'Payment Gateways', 'Inventory Management', 'Supply Chain Management', 'Logistics', 'Procurement', 'ERP Systems', 'SAP', 'Oracle',\n",
    "    'Microsoft Dynamics', 'Tableau', 'Power BI', 'QlikView', 'Looker', 'Data Warehousing', 'ETL', 'Data Engineering', 'Data Governance',\n",
    "    'Data Quality', 'Master Data Management', 'Predictive Analytics', 'Prescriptive Analytics', 'Descriptive Analytics', 'Business Intelligence',\n",
    "    'Dashboarding', 'Reporting', 'Data Mining', 'Web Scraping', 'API Integration', 'RESTful APIs', 'GraphQL', 'SOAP', 'Microservices',\n",
    "    'Serverless Architecture', 'Lambda Functions', 'Event-Driven Architecture', 'Message Queues', 'GraphQL', 'Socket.io', 'WebSockets'\n",
    "'Ruby', 'Ruby on Rails', 'PHP', 'Symfony', 'Laravel', 'CakePHP', 'Zend Framework', 'ASP.NET', 'C#', 'VB.NET', 'ASP.NET MVC', 'Entity Framework',\n",
    "    'Spring', 'Hibernate', 'Struts', 'Kotlin', 'Swift', 'Objective-C', 'iOS Development', 'Android Development', 'Flutter', 'React Native', 'Ionic',\n",
    "    'Mobile UI/UX Design', 'Material Design', 'SwiftUI', 'RxJava', 'RxSwift', 'Django', 'Flask', 'FastAPI', 'Falcon', 'Tornado', 'WebSockets',\n",
    "    'GraphQL', 'RESTful Web Services', 'SOAP', 'Microservices Architecture', 'Serverless Computing', 'AWS Lambda', 'Google Cloud Functions',\n",
    "    'Azure Functions', 'Server Administration', 'System Administration', 'Network Administration', 'Database Administration', 'MySQL', 'PostgreSQL',\n",
    "    'SQLite', 'Microsoft SQL Server', 'Oracle Database', 'NoSQL', 'MongoDB', 'Cassandra', 'Redis', 'Elasticsearch', 'Firebase', 'Google Analytics',\n",
    "    'Google Tag Manager', 'Adobe Analytics', 'Marketing Automation', 'Customer Data Platforms', 'Segment', 'Salesforce Marketing Cloud', 'HubSpot CRM',\n",
    "    'Zapier', 'IFTTT', 'Workflow Automation', 'Robotic Process Automation (RPA)', 'UI Automation', 'Natural Language Generation (NLG)',\n",
    "    'Virtual Reality (VR)', 'Augmented Reality (AR)', 'Mixed Reality (MR)', 'Unity', 'Unreal Engine', '3D Modeling', 'Animation', 'Motion Graphics',\n",
    "    'Game Design', 'Game Development', 'Level Design', 'Unity3D', 'Unreal Engine 4', 'Blender', 'Maya', 'Adobe After Effects', 'Adobe Premiere Pro',\n",
    "    'Final Cut Pro', 'Video Editing', 'Audio Editing', 'Sound Design', 'Music Production', 'Digital Marketing', 'Content Strategy', 'Conversion Rate Optimization (CRO)',\n",
    "    'A/B Testing', 'Customer Experience (CX)', 'User Experience (UX)', 'User Interface (UI)', 'Persona Development', 'User Journey Mapping', 'Information Architecture (IA)',\n",
    "    'Wireframing', 'Prototyping', 'Usability Testing', 'Accessibility Compliance', 'Internationalization (I18n)', 'Localization (L10n)', 'Voice User Interface (VUI)',\n",
    "    'Chatbots', 'Natural Language Understanding (NLU)', 'Speech Synthesis', 'Emotion Detection', 'Sentiment Analysis', 'Image Recognition', 'Object Detection',\n",
    "    'Facial Recognition', 'Gesture Recognition', 'Document Recognition', 'Fraud Detection', 'Cyber Threat Intelligence', 'Security Information and Event Management (SIEM)',\n",
    "    'Vulnerability Assessment', 'Incident Response', 'Forensic Analysis', 'Security Operations Center (SOC)', 'Identity and Access Management (IAM)', 'Single Sign-On (SSO)',\n",
    "    'Multi-Factor Authentication (MFA)', 'Blockchain', 'Cryptocurrency', 'Decentralized Finance (DeFi)', 'Smart Contracts', 'Web3', 'Non-Fungible Tokens (NFTs)']\n",
    "\n",
    "extracted_skills = extract_skills_from_resume(text, skills_list)\n",
    "\n",
    "if extracted_skills:\n",
    "    print(\"Skills:\", extracted_skills)\n",
    "else:\n",
    "    print(\"No skills found\")"
   ]
  },
  {
   "cell_type": "markdown",
   "id": "0cfb5931",
   "metadata": {},
   "source": [
    "# Extracting Education\n",
    "Education qualifications play a vital role in the recruitment process. We can match specific education keywords against the resume text to identify the candidate’s educational background. Here’s a function to extract education information from the resume text:"
   ]
  },
  {
   "cell_type": "code",
   "execution_count": 17,
   "id": "544f6bc2",
   "metadata": {},
   "outputs": [
    {
     "name": "stdout",
     "output_type": "stream",
     "text": [
      "Education: ['FINANCE', 'Management', 'Education']\n"
     ]
    }
   ],
   "source": [
    "import re\n",
    "\n",
    "def extract_education_from_resume(text):\n",
    "    education = []\n",
    "\n",
    "    # List of education keywords to match against\n",
    "    education_keywords = [\n",
    "        'Computer Science', 'Information Technology', 'Software Engineering', 'Electrical Engineering', 'Mechanical Engineering', 'Civil Engineering',\n",
    "        'Chemical Engineering', 'Biomedical Engineering', 'Aerospace Engineering', 'Nuclear Engineering', 'Industrial Engineering', 'Systems Engineering',\n",
    "        'Environmental Engineering', 'Petroleum Engineering', 'Geological Engineering', 'Marine Engineering', 'Robotics Engineering', 'Biotechnology',\n",
    "        'Biochemistry', 'Microbiology', 'Genetics', 'Molecular Biology', 'Bioinformatics', 'Neuroscience', 'Biophysics', 'Biostatistics', 'Pharmacology',\n",
    "        'Physiology', 'Anatomy', 'Pathology', 'Immunology', 'Epidemiology', 'Public Health', 'Health Administration', 'Nursing', 'Medicine', 'Dentistry',\n",
    "        'Pharmacy', 'Veterinary Medicine', 'Medical Technology', 'Radiography', 'Physical Therapy', 'Occupational Therapy', 'Speech Therapy', 'Nutrition',\n",
    "        'Sports Science', 'Kinesiology', 'Exercise Physiology', 'Sports Medicine', 'Rehabilitation Science', 'Psychology', 'Counseling', 'Social Work',\n",
    "        'Sociology', 'Anthropology', 'Criminal Justice', 'Political Science', 'International Relations', 'Economics', 'Finance', 'Accounting', 'Business Administration',\n",
    "        'Management', 'Marketing', 'Entrepreneurship', 'Hospitality Management', 'Tourism Management', 'Supply Chain Management', 'Logistics Management',\n",
    "        'Operations Management', 'Human Resource Management', 'Organizational Behavior', 'Project Management', 'Quality Management', 'Risk Management',\n",
    "        'Strategic Management', 'Public Administration', 'Urban Planning', 'Architecture', 'Interior Design', 'Landscape Architecture', 'Fine Arts',\n",
    "        'Visual Arts', 'Graphic Design', 'Fashion Design', 'Industrial Design', 'Product Design', 'Animation', 'Film Studies', 'Media Studies',\n",
    "        'Communication Studies', 'Journalism', 'Broadcasting', 'Creative Writing', 'English Literature', 'Linguistics', 'Translation Studies',\n",
    "        'Foreign Languages', 'Modern Languages', 'Classical Studies', 'History', 'Archaeology', 'Philosophy', 'Theology', 'Religious Studies',\n",
    "        'Ethics', 'Education', 'Early Childhood Education', 'Elementary Education', 'Secondary Education', 'Special Education', 'Higher Education',\n",
    "        'Adult Education', 'Distance Education', 'Online Education', 'Instructional Design', 'Curriculum Development'\n",
    "        'Library Science', 'Information Science', 'Computer Engineering', 'Software Development', 'Cybersecurity', 'Information Security',\n",
    "        'Network Engineering', 'Data Science', 'Data Analytics', 'Business Analytics', 'Operations Research', 'Decision Sciences',\n",
    "        'Human-Computer Interaction', 'User Experience Design', 'User Interface Design', 'Digital Marketing', 'Content Strategy',\n",
    "        'Brand Management', 'Public Relations', 'Corporate Communications', 'Media Production', 'Digital Media', 'Web Development',\n",
    "        'Mobile App Development', 'Game Development', 'Virtual Reality', 'Augmented Reality', 'Blockchain Technology', 'Cryptocurrency',\n",
    "        'Digital Forensics', 'Forensic Science', 'Criminalistics', 'Crime Scene Investigation', 'Emergency Management', 'Fire Science',\n",
    "        'Environmental Science', 'Climate Science', 'Meteorology', 'Geography', 'Geomatics', 'Remote Sensing', 'Geoinformatics',\n",
    "        'Cartography', 'GIS (Geographic Information Systems)', 'Environmental Management', 'Sustainability Studies', 'Renewable Energy',\n",
    "        'Green Technology', 'Ecology', 'Conservation Biology', 'Wildlife Biology', 'Zoology']\n",
    "\n",
    "    for keyword in education_keywords:\n",
    "        pattern = r\"(?i)\\b{}\\b\".format(re.escape(keyword))\n",
    "        match = re.search(pattern, text)\n",
    "        if match:\n",
    "            education.append(match.group())\n",
    "\n",
    "    return education\n",
    "\n",
    "extracted_education = extract_education_from_resume(text)\n",
    "if extracted_education:\n",
    "    print(\"Education:\", extracted_education)\n",
    "else:\n",
    "    print(\"No education information found\")"
   ]
  },
  {
   "cell_type": "markdown",
   "id": "0951159a",
   "metadata": {},
   "source": [
    "# Extracting Name Using spaCy\n",
    "Identifying the candidate’s name from the resume is essential for personalization and identification. We can use spaCy and its pattern matching capabilities to extract the candidate’s name. Let’s define a function to extract the name using spaCy:"
   ]
  },
  {
   "cell_type": "code",
   "execution_count": 18,
   "id": "c9c0bf68",
   "metadata": {},
   "outputs": [
    {
     "name": "stdout",
     "output_type": "stream",
     "text": [
      "Name: Contact No\n"
     ]
    }
   ],
   "source": [
    "def extract_name_from_resume(text):\n",
    "    name = None\n",
    "\n",
    "    # Use regex pattern to find a potential name\n",
    "    pattern = r\"(\\b[A-Z][a-z]+\\b)\\s(\\b[A-Z][a-z]+\\b)\"\n",
    "    match = re.search(pattern, text)\n",
    "    if match:\n",
    "        name = match.group()\n",
    "\n",
    "    return name\n",
    "\n",
    "name = extract_name_from_resume(text)\n",
    "\n",
    "if name:\n",
    "    print(\"Name:\", name)\n",
    "else:\n",
    "    print(\"Name not found\")"
   ]
  },
  {
   "cell_type": "code",
   "execution_count": 19,
   "id": "420503a5",
   "metadata": {},
   "outputs": [],
   "source": [
    "def extract_soft_skill(text):\n",
    "    softskill = []\n",
    "\n",
    "    softskill_keyword  =[\"Adaptability\", \"Analytical Thinking\", \"Attention to Detail\", \"Collaboration\", \n",
    "    \"Communication\", \"Conflict Resolution\", \"Creativity\", \"Critical Thinking\", \n",
    "    \"Decision Making\", \"Emotional Intelligence\", \"Empathy\", \"Flexibility\", \n",
    "    \"Interpersonal Skills\", \"Leadership\", \"Listening\", \"Negotiation\", \"Networking\", \n",
    "    \"Open-Mindedness\", \"Organization\", \"Patience\", \"Persuasion\", \"Problem Solving\", \n",
    "    \"Public Speaking\", \"Resourcefulness\", \"Self-Motivation\", \"Teamwork\", \"Time Management\", \n",
    "    \"Work Ethic\", \"Positive Attitude\", \"Stress Management\", \"Resilience\", \"Initiative\", \n",
    "    \"Adaptability\", \"Collaboration\", \"Integrity\", \"Multitasking\", \"Dependability\", \n",
    "    \"Dedication\", \"Determination\", \"Discipline\", \"Energy\", \"Innovation\", \"Insight\", \n",
    "    \"Enthusiasm\", \"Honesty\", \"Influencing\", \"Optimism\", \"Perseverance\", \"Proactivity\", \n",
    "    \"Professionalism\", \"Punctuality\", \"Respectfulness\", \"Responsibility\", \"Self-Awareness\", \n",
    "    \"Self-Confidence\", \"Self-Discipline\", \"Self-Management\", \"Strategic Thinking\", \n",
    "    \"Tactfulness\", \"Tenacity\", \"Thoroughness\", \"Trustworthiness\", \"Work Under Pressure\", \n",
    "    \"Adaptability to Change\", \"Assertiveness\", \"Business Acumen\", \"Client Management\", \n",
    "    \"Coaching\", \"Competitiveness\", \"Computer Literacy\", \"Continuous Improvement\", \n",
    "    \"Cultural Awareness\", \"Customer Service\", \"Delegation\", \"Detail Orientation\", \n",
    "    \"Diplomacy\", \"Diversity Awareness\", \"Event Planning\", \"Facilitation\", \"Follow-Through\", \n",
    "    \"Goal Setting\", \"Independence\", \"Influence\", \"Initiative\", \"Innovation Management\", \n",
    "    \"Intuition\", \"Judgment\", \"Logical Thinking\", \"Market Awareness\", \"Mentoring\", \n",
    "    \"Motivating Others\", \"Negotiating Skills\", \"Nonverbal Communication\", \"Objective Thinking\", \n",
    "    \"Oral Communication\", \"Organization Skills\", \"People Skills\", \"Performance Management\", \n",
    "    \"Personal Accountability\", \"Persuasiveness\", \"Planning\", \"Prioritization\", \"Project Management\", \n",
    "    \"Providing Feedback\", \"Reading Body Language\", \"Relationship Building\", \"Results Orientation\", \n",
    "    \"Risk Management\", \"Scheduling\", \"Self-Assessment\", \"Self-Critique\", \"Selling Skills\", \n",
    "    \"Sensitivity\", \"Service Orientation\", \"Situational Awareness\", \"Social Intelligence\", \n",
    "    \"Stakeholder Management\", \"Storytelling\", \"Supervision\", \"Systems Thinking\", \n",
    "    \"Talent Management\", \"Task Management\", \"Technical Writing\", \"Training\", \n",
    "    \"Verbal Communication\", \"Visual Communication\", \"Volunteer Management\", \"Work Ethic\", \n",
    "    \"Written Communication\", \"Adaptability to New Technology\", \"Assertive Communication\", \n",
    "    \"Awareness of Others\", \"Benchmarking\", \"Brand Management\", \"Business Development\", \n",
    "    \"Client Relations\", \"Collaborative Problem Solving\", \"Competitive Analysis\", \"Conceptual Thinking\", \n",
    "    \"Conflict Management\", \"Consensus Building\", \"Constructive Criticism\", \"Consulting\", \n",
    "    \"Contract Negotiation\", \"Cost Control\", \"Creative Thinking\", \"Crisis Management\", \n",
    "    \"Customer Retention\", \"Customer Relationship Management\", \"Data Analysis\", \"Data Interpretation\", \n",
    "    \"Data Presentation\", \"Decision-Making Skills\", \"Emotional Regulation\", \"Empowering Others\", \n",
    "    \"Endurance\", \"Ethical Judgment\", \"Event Coordination\", \"Executive Presence\", \"Facilitating Discussions\", \n",
    "    \"Financial Acumen\", \"Forecasting\", \"Global Mindset\", \"Goal Achievement\", \"Group Dynamics\", \n",
    "    \"Growth Mindset\", \"Influence and Persuasion\", \"Information Management\", \"Initiating Action\", \n",
    "    \"Intellectual Curiosity\", \"Intercultural Communication\", \"Interdisciplinary Approach\", \n",
    "    \"Knowledge Sharing\", \"Leadership Development\", \"Learning Agility\", \"Listening Skills\", \n",
    "    \"Managing Ambiguity\", \"Managing Expectations\", \"Managing Upwards\", \"Meeting Facilitation\", \n",
    "    \"Mentorship\", \"Multi-Cultural Competence\", \"Networking Skills\", \"Organizational Agility\", \n",
    "    \"Performance Improvement\", \"Personal Branding\", \"Persuasive Communication\", \"Presentation Skills\", \n",
    "    \"Prioritizing Tasks\", \"Process Improvement\", \"Professional Networking\", \"Public Relations\", \n",
    "    \"Quality Focus\", \"Reflective Practice\", \"Resilient Leadership\", \"Respect for Diversity\", \n",
    "    \"Scenario Planning\", \"Self-Reflection\", \"Service Excellence\", \"Situational Leadership\", \n",
    "    \"Social Media Literacy\", \"Stakeholder Engagement\", \"Strategic Leadership\", \"Sustainability Awareness\", \n",
    "    \"Talent Development\", \"Team Development\", \"Technical Communication\", \"Transformational Leadership\", \n",
    "    \"User Experience Awareness\", \"Virtual Collaboration\", \"Visionary Thinking\", \"Wellness Management\", \n",
    "    \"Work-Life Balance\"\n",
    "]\n",
    "    for keyword in softskill_keyword:\n",
    "        pattern = r\"\"\n",
    "        match = re.search(pattern,text)\n",
    "        if match :\n",
    "            softskill.append(match.group())\n",
    "\n",
    "    return softskill\n"
   ]
  }
 ],
 "metadata": {
  "kernelspec": {
   "display_name": "Python 3 (ipykernel)",
   "language": "python",
   "name": "python3"
  },
  "language_info": {
   "codemirror_mode": {
    "name": "ipython",
    "version": 3
   },
   "file_extension": ".py",
   "mimetype": "text/x-python",
   "name": "python",
   "nbconvert_exporter": "python",
   "pygments_lexer": "ipython3",
   "version": "3.11.4"
  }
 },
 "nbformat": 4,
 "nbformat_minor": 5
}
