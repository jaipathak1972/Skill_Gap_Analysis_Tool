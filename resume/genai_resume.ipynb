{
 "cells": [
  {
   "cell_type": "code",
   "execution_count": 1,
   "metadata": {},
   "outputs": [
    {
     "name": "stdout",
     "output_type": "stream",
     "text": [
      "Collecting google-generativeai\n",
      "  Downloading google_generativeai-0.7.1-py3-none-any.whl.metadata (3.9 kB)\n",
      "Collecting google-ai-generativelanguage==0.6.6 (from google-generativeai)\n",
      "  Downloading google_ai_generativelanguage-0.6.6-py3-none-any.whl.metadata (5.6 kB)\n",
      "Collecting google-api-core (from google-generativeai)\n",
      "  Downloading google_api_core-2.19.1-py3-none-any.whl.metadata (2.7 kB)\n",
      "Collecting google-api-python-client (from google-generativeai)\n",
      "  Downloading google_api_python_client-2.135.0-py2.py3-none-any.whl.metadata (6.7 kB)\n",
      "Requirement already satisfied: google-auth>=2.15.0 in c:\\users\\dell\\appdata\\local\\programs\\python\\python311\\lib\\site-packages (from google-generativeai) (2.23.3)\n",
      "Requirement already satisfied: protobuf in c:\\users\\dell\\appdata\\local\\programs\\python\\python311\\lib\\site-packages (from google-generativeai) (4.24.4)\n",
      "Requirement already satisfied: pydantic in c:\\users\\dell\\appdata\\local\\programs\\python\\python311\\lib\\site-packages (from google-generativeai) (2.5.3)\n",
      "Requirement already satisfied: tqdm in c:\\users\\dell\\appdata\\local\\programs\\python\\python311\\lib\\site-packages (from google-generativeai) (4.66.1)\n",
      "Requirement already satisfied: typing-extensions in c:\\users\\dell\\appdata\\local\\programs\\python\\python311\\lib\\site-packages (from google-generativeai) (4.9.0)\n",
      "Collecting proto-plus<2.0.0dev,>=1.22.3 (from google-ai-generativelanguage==0.6.6->google-generativeai)\n",
      "  Downloading proto_plus-1.24.0-py3-none-any.whl.metadata (2.2 kB)\n",
      "Collecting googleapis-common-protos<2.0.dev0,>=1.56.2 (from google-api-core->google-generativeai)\n",
      "  Downloading googleapis_common_protos-1.63.2-py2.py3-none-any.whl.metadata (1.5 kB)\n",
      "Requirement already satisfied: requests<3.0.0.dev0,>=2.18.0 in c:\\users\\dell\\appdata\\local\\programs\\python\\python311\\lib\\site-packages (from google-api-core->google-generativeai) (2.28.2)\n",
      "Requirement already satisfied: cachetools<6.0,>=2.0.0 in c:\\users\\dell\\appdata\\local\\programs\\python\\python311\\lib\\site-packages (from google-auth>=2.15.0->google-generativeai) (5.3.2)\n",
      "Requirement already satisfied: pyasn1-modules>=0.2.1 in c:\\users\\dell\\appdata\\local\\programs\\python\\python311\\lib\\site-packages (from google-auth>=2.15.0->google-generativeai) (0.3.0)\n",
      "Requirement already satisfied: rsa<5,>=3.1.4 in c:\\users\\dell\\appdata\\local\\programs\\python\\python311\\lib\\site-packages (from google-auth>=2.15.0->google-generativeai) (4.9)\n",
      "Collecting httplib2<1.dev0,>=0.19.0 (from google-api-python-client->google-generativeai)\n",
      "  Downloading httplib2-0.22.0-py3-none-any.whl.metadata (2.6 kB)\n",
      "Collecting google-auth-httplib2<1.0.0,>=0.2.0 (from google-api-python-client->google-generativeai)\n",
      "  Downloading google_auth_httplib2-0.2.0-py2.py3-none-any.whl.metadata (2.2 kB)\n",
      "Collecting uritemplate<5,>=3.0.1 (from google-api-python-client->google-generativeai)\n",
      "  Downloading uritemplate-4.1.1-py2.py3-none-any.whl.metadata (2.9 kB)\n",
      "Requirement already satisfied: annotated-types>=0.4.0 in c:\\users\\dell\\appdata\\local\\programs\\python\\python311\\lib\\site-packages (from pydantic->google-generativeai) (0.6.0)\n",
      "Requirement already satisfied: pydantic-core==2.14.6 in c:\\users\\dell\\appdata\\local\\programs\\python\\python311\\lib\\site-packages (from pydantic->google-generativeai) (2.14.6)\n",
      "Requirement already satisfied: colorama in c:\\users\\dell\\appdata\\roaming\\python\\python311\\site-packages (from tqdm->google-generativeai) (0.4.6)\n",
      "Requirement already satisfied: grpcio<2.0dev,>=1.33.2 in c:\\users\\dell\\appdata\\local\\programs\\python\\python311\\lib\\site-packages (from google-api-core[grpc]!=2.0.*,!=2.1.*,!=2.10.*,!=2.2.*,!=2.3.*,!=2.4.*,!=2.5.*,!=2.6.*,!=2.7.*,!=2.8.*,!=2.9.*,<3.0.0dev,>=1.34.1->google-ai-generativelanguage==0.6.6->google-generativeai) (1.59.0)\n",
      "Collecting grpcio-status<2.0.dev0,>=1.33.2 (from google-api-core[grpc]!=2.0.*,!=2.1.*,!=2.10.*,!=2.2.*,!=2.3.*,!=2.4.*,!=2.5.*,!=2.6.*,!=2.7.*,!=2.8.*,!=2.9.*,<3.0.0dev,>=1.34.1->google-ai-generativelanguage==0.6.6->google-generativeai)\n",
      "  Downloading grpcio_status-1.64.1-py3-none-any.whl.metadata (1.1 kB)\n",
      "Requirement already satisfied: pyparsing!=3.0.0,!=3.0.1,!=3.0.2,!=3.0.3,<4,>=2.4.2 in c:\\users\\dell\\appdata\\local\\programs\\python\\python311\\lib\\site-packages (from httplib2<1.dev0,>=0.19.0->google-api-python-client->google-generativeai) (3.0.9)\n",
      "Requirement already satisfied: pyasn1<0.6.0,>=0.4.6 in c:\\users\\dell\\appdata\\local\\programs\\python\\python311\\lib\\site-packages (from pyasn1-modules>=0.2.1->google-auth>=2.15.0->google-generativeai) (0.5.0)\n",
      "Requirement already satisfied: charset-normalizer<4,>=2 in c:\\users\\dell\\appdata\\local\\programs\\python\\python311\\lib\\site-packages (from requests<3.0.0.dev0,>=2.18.0->google-api-core->google-generativeai) (3.0.1)\n",
      "Requirement already satisfied: idna<4,>=2.5 in c:\\users\\dell\\appdata\\local\\programs\\python\\python311\\lib\\site-packages (from requests<3.0.0.dev0,>=2.18.0->google-api-core->google-generativeai) (2.10)\n",
      "Requirement already satisfied: urllib3<1.27,>=1.21.1 in c:\\users\\dell\\appdata\\local\\programs\\python\\python311\\lib\\site-packages (from requests<3.0.0.dev0,>=2.18.0->google-api-core->google-generativeai) (1.26.14)\n",
      "Requirement already satisfied: certifi>=2017.4.17 in c:\\users\\dell\\appdata\\local\\programs\\python\\python311\\lib\\site-packages (from requests<3.0.0.dev0,>=2.18.0->google-api-core->google-generativeai) (2022.12.7)\n",
      "INFO: pip is looking at multiple versions of grpcio-status to determine which version is compatible with other requirements. This could take a while.\n",
      "  Downloading grpcio_status-1.64.0-py3-none-any.whl.metadata (1.1 kB)\n",
      "  Downloading grpcio_status-1.63.0-py3-none-any.whl.metadata (1.1 kB)\n",
      "  Downloading grpcio_status-1.62.2-py3-none-any.whl.metadata (1.3 kB)\n",
      "Collecting grpcio<2.0dev,>=1.33.2 (from google-api-core[grpc]!=2.0.*,!=2.1.*,!=2.10.*,!=2.2.*,!=2.3.*,!=2.4.*,!=2.5.*,!=2.6.*,!=2.7.*,!=2.8.*,!=2.9.*,<3.0.0dev,>=1.34.1->google-ai-generativelanguage==0.6.6->google-generativeai)\n",
      "  Downloading grpcio-1.64.1-cp311-cp311-win_amd64.whl.metadata (3.4 kB)\n",
      "Downloading google_generativeai-0.7.1-py3-none-any.whl (163 kB)\n",
      "   ---------------------------------------- 0.0/163.9 kB ? eta -:--:--\n",
      "   ---------------------------------------- 163.9/163.9 kB 5.0 MB/s eta 0:00:00\n",
      "Downloading google_ai_generativelanguage-0.6.6-py3-none-any.whl (718 kB)\n",
      "   ---------------------------------------- 0.0/718.3 kB ? eta -:--:--\n",
      "   ------------------------------------- - 686.1/718.3 kB 21.8 MB/s eta 0:00:01\n",
      "   --------------------------------------  716.8/718.3 kB 15.0 MB/s eta 0:00:01\n",
      "   --------------------------------------  716.8/718.3 kB 15.0 MB/s eta 0:00:01\n",
      "   --------------------------------------  716.8/718.3 kB 15.0 MB/s eta 0:00:01\n",
      "   --------------------------------------  716.8/718.3 kB 15.0 MB/s eta 0:00:01\n",
      "   ---------------------------------------- 718.3/718.3 kB 3.0 MB/s eta 0:00:00\n",
      "Downloading google_api_core-2.19.1-py3-none-any.whl (139 kB)\n",
      "   ---------------------------------------- 0.0/139.4 kB ? eta -:--:--\n",
      "   ---------------------------------------- 139.4/139.4 kB 8.1 MB/s eta 0:00:00\n",
      "Downloading google_api_python_client-2.135.0-py2.py3-none-any.whl (11.9 MB)\n",
      "   ---------------------------------------- 0.0/11.9 MB ? eta -:--:--\n",
      "   -- ------------------------------------- 0.8/11.9 MB 25.9 MB/s eta 0:00:01\n",
      "   ---- ----------------------------------- 1.5/11.9 MB 18.8 MB/s eta 0:00:01\n",
      "   -------- ------------------------------- 2.4/11.9 MB 19.3 MB/s eta 0:00:01\n",
      "   ---------- ----------------------------- 3.3/11.9 MB 18.9 MB/s eta 0:00:01\n",
      "   ------------- -------------------------- 4.0/11.9 MB 18.4 MB/s eta 0:00:01\n",
      "   ---------------- ----------------------- 4.9/11.9 MB 18.5 MB/s eta 0:00:01\n",
      "   -------------------- ------------------- 6.0/11.9 MB 19.2 MB/s eta 0:00:01\n",
      "   ---------------------- ----------------- 6.6/11.9 MB 19.1 MB/s eta 0:00:01\n",
      "   ----------------------- ---------------- 7.0/11.9 MB 17.2 MB/s eta 0:00:01\n",
      "   -------------------------- ------------- 8.0/11.9 MB 17.6 MB/s eta 0:00:01\n",
      "   ---------------------------- ----------- 8.5/11.9 MB 17.5 MB/s eta 0:00:01\n",
      "   -------------------------------- ------- 9.6/11.9 MB 17.0 MB/s eta 0:00:01\n",
      "   ---------------------------------- ----- 10.2/11.9 MB 16.7 MB/s eta 0:00:01\n",
      "   ------------------------------------ --- 10.8/11.9 MB 16.0 MB/s eta 0:00:01\n",
      "   -------------------------------------- - 11.5/11.9 MB 16.0 MB/s eta 0:00:01\n",
      "   ---------------------------------------  11.9/11.9 MB 16.0 MB/s eta 0:00:01\n",
      "   ---------------------------------------- 11.9/11.9 MB 14.9 MB/s eta 0:00:00\n",
      "Downloading google_auth_httplib2-0.2.0-py2.py3-none-any.whl (9.3 kB)\n",
      "Downloading googleapis_common_protos-1.63.2-py2.py3-none-any.whl (220 kB)\n",
      "   ---------------------------------------- 0.0/220.0 kB ? eta -:--:--\n",
      "   --------------------------------------- 220.0/220.0 kB 13.1 MB/s eta 0:00:00\n",
      "Downloading httplib2-0.22.0-py3-none-any.whl (96 kB)\n",
      "   ---------------------------------------- 0.0/96.9 kB ? eta -:--:--\n",
      "   ---------------------------------------- 96.9/96.9 kB 5.4 MB/s eta 0:00:00\n",
      "Downloading proto_plus-1.24.0-py3-none-any.whl (50 kB)\n",
      "   ---------------------------------------- 0.0/50.1 kB ? eta -:--:--\n",
      "   ---------------------------------------- 50.1/50.1 kB ? eta 0:00:00\n",
      "Downloading uritemplate-4.1.1-py2.py3-none-any.whl (10 kB)\n",
      "Downloading grpcio_status-1.62.2-py3-none-any.whl (14 kB)\n",
      "Downloading grpcio-1.64.1-cp311-cp311-win_amd64.whl (4.1 MB)\n",
      "   ---------------------------------------- 0.0/4.1 MB ? eta -:--:--\n",
      "   ------ --------------------------------- 0.7/4.1 MB 22.1 MB/s eta 0:00:01\n",
      "   --------------- ------------------------ 1.5/4.1 MB 16.4 MB/s eta 0:00:01\n",
      "   ---------------------- ----------------- 2.3/4.1 MB 16.7 MB/s eta 0:00:01\n",
      "   ----------------------------- ---------- 3.0/4.1 MB 17.5 MB/s eta 0:00:01\n",
      "   -------------------------------------- - 3.9/4.1 MB 18.0 MB/s eta 0:00:01\n",
      "   ---------------------------------------- 4.1/4.1 MB 15.4 MB/s eta 0:00:00\n",
      "Installing collected packages: uritemplate, proto-plus, httplib2, grpcio, googleapis-common-protos, grpcio-status, google-auth-httplib2, google-api-core, google-api-python-client, google-ai-generativelanguage, google-generativeai\n",
      "  Attempting uninstall: grpcio\n",
      "    Found existing installation: grpcio 1.59.0\n",
      "    Uninstalling grpcio-1.59.0:\n",
      "      Successfully uninstalled grpcio-1.59.0\n",
      "Successfully installed google-ai-generativelanguage-0.6.6 google-api-core-2.19.1 google-api-python-client-2.135.0 google-auth-httplib2-0.2.0 google-generativeai-0.7.1 googleapis-common-protos-1.63.2 grpcio-1.64.1 grpcio-status-1.62.2 httplib2-0.22.0 proto-plus-1.24.0 uritemplate-4.1.1\n"
     ]
    }
   ],
   "source": [
    "! pip install google-generativeai"
   ]
  },
  {
   "cell_type": "code",
   "execution_count": 4,
   "metadata": {},
   "outputs": [
    {
     "name": "stdout",
     "output_type": "stream",
     "text": [
      "Requirement already satisfied: pathlib in c:\\users\\dell\\appdata\\local\\programs\\python\\python311\\lib\\site-packages (1.0.1)\n",
      "Collecting display\n",
      "  Downloading display-1.0.0.tar.gz (687 bytes)\n",
      "  Preparing metadata (setup.py): started\n",
      "  Preparing metadata (setup.py): finished with status 'done'\n",
      "Building wheels for collected packages: display\n",
      "  Building wheel for display (setup.py): started\n",
      "  Building wheel for display (setup.py): finished with status 'done'\n",
      "  Created wheel for display: filename=display-1.0.0-py3-none-any.whl size=1386 sha256=aa6c3991f2020ff358df64bf2238d13a1eeeea1a6bf451bb3768e15f7ea1f007\n",
      "  Stored in directory: c:\\users\\dell\\appdata\\local\\pip\\cache\\wheels\\32\\aa\\e3\\5baec4e60aa11354c95a52649ca7a9cb49fcb869bddf5a33cb\n",
      "Successfully built display\n",
      "Installing collected packages: display\n",
      "Successfully installed display-1.0.0\n",
      "Requirement already satisfied: Markdown in c:\\users\\dell\\appdata\\local\\programs\\python\\python311\\lib\\site-packages (3.5)\n"
     ]
    }
   ],
   "source": [
    "! pip install pathlib\n",
    "! pip install display \n",
    "! pip install Markdown\n"
   ]
  },
  {
   "cell_type": "code",
   "execution_count": null,
   "metadata": {},
   "outputs": [],
   "source": [
    "import textwrap\n",
    "import pathlib"
   ]
  }
 ],
 "metadata": {
  "kernelspec": {
   "display_name": "Python 3",
   "language": "python",
   "name": "python3"
  },
  "language_info": {
   "codemirror_mode": {
    "name": "ipython",
    "version": 3
   },
   "file_extension": ".py",
   "mimetype": "text/x-python",
   "name": "python",
   "nbconvert_exporter": "python",
   "pygments_lexer": "ipython3",
   "version": "3.11.4"
  }
 },
 "nbformat": 4,
 "nbformat_minor": 2
}
