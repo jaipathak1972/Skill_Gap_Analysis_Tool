{
 "cells": [
  {
   "cell_type": "code",
   "execution_count": null,
   "metadata": {},
   "outputs": [],
   "source": [
    "import pandas as pd\n",
    "import numpy as np"
   ]
  },
  {
   "cell_type": "code",
   "execution_count": null,
   "metadata": {},
   "outputs": [],
   "source": [
    "# From Data file we will import the finall_data.xlsx\n",
    "\n",
    "df = pd.read_excel(r'C:\\Users\\Dell\\OneDrive\\Desktop\\advance web scraping\\Nakri_data_set\\Skill_Gap_Analysis_Tool\\Data\\Finall_data.xlsx')\n",
    "df.info()"
   ]
  },
  {
   "cell_type": "code",
   "execution_count": null,
   "metadata": {},
   "outputs": [],
   "source": [
    "# removed the use less columns  \n",
    "df.drop(columns=['Unnamed: 0.1'\t,'Unnamed: 0'\t],inplace=True)\n",
    "df.head()\n",
    "df.columns"
   ]
  },
  {
   "cell_type": "code",
   "execution_count": null,
   "metadata": {},
   "outputs": [],
   "source": [
    "temp_df = df.copy()"
   ]
  },
  {
   "cell_type": "code",
   "execution_count": null,
   "metadata": {},
   "outputs": [],
   "source": [
    "temp_df = temp_df[temp_df['job_pay'] != 'Not disclosed']"
   ]
  },
  {
   "cell_type": "code",
   "execution_count": null,
   "metadata": {},
   "outputs": [],
   "source": [
    "temp_df['starting_range'] = temp_df['job_pay'].str.split('-',expand=True)[0]\n",
    "temp_df['ending_range'] = temp_df['job_pay'].str.split('-',expand=True)[1]\n",
    "temp_df['starting_range'].value_counts()"
   ]
  },
  {
   "cell_type": "code",
   "execution_count": null,
   "metadata": {},
   "outputs": [],
   "source": [
    "temp_df['starting_range'] = temp_df['job_pay'].str.split('-',expand=True)[0]\n",
    "temp_df['ending_range'] = temp_df['job_pay'].str.split('-',expand=True)[1]\n",
    "temp_df['ending_range'] = temp_df['ending_range'].fillna('No data')\n",
    "\n",
    "# Create a new column 'bonus' with default value 0\n",
    "temp_df['bonus'] = 0\n",
    "\n",
    "# Find rows where 'ending_range' contains '(' and set 'bonus' to 1 for those rows\n",
    "temp_df.loc[temp_df['ending_range'].str.contains(r'\\('), 'bonus'] = 1\n",
    "\n",
    "indexes = temp_df[temp_df['ending_range'].str.contains(r'\\(')].index\n",
    "\n",
    "# Split 'ending_range' at '(' and take the first part\n",
    "split_values = temp_df.loc[indexes, 'ending_range'].str.split(r'\\(', expand=True)[0]\n",
    "\n",
    "# Update the DataFrame with the split values\n",
    "temp_df.loc[indexes, 'ending_range'] = split_values\n",
    "\n",
    "# temp_df['ending_range'].str.replace(r'.*\\(([^:]+): ([^\\)]+)\\).*', r'\\0', regex=True)"
   ]
  },
  {
   "cell_type": "code",
   "execution_count": null,
   "metadata": {},
   "outputs": [],
   "source": [
    "# For rows where 'starting_range' is 'No data' and 'Company Size' is 'Very Large', set 'starting_range' to 7\n",
    "temp_df.loc[(temp_df['ending_range'] == 'No data') & (temp_df['Company Size'] == 'Very Large'), 'ending_range'] = 1200000\n",
    "temp_df.loc[(temp_df['ending_range'] == 'No data') & (temp_df['Company Size'] == 'Large'), 'ending_range'] = 1000000\n",
    "temp_df.loc[(temp_df['ending_range'] == 'No data') & (temp_df['Company Size'] == 'Small'), 'ending_range'] = 500000\n",
    "temp_df.loc[(temp_df['ending_range'] == 'No data') & (temp_df['Company Size'] == 'Very Small'), 'ending_range'] = 300000\n",
    "temp_df.loc[(temp_df['job_pay'] == 'No data') & (temp_df['Company Size'] == 'Very Large'), 'starting_range'] = 900000\n",
    "temp_df.loc[(temp_df['job_pay'] == 'No data') & (temp_df['Company Size'] == 'Large'), 'starting_range'] = 700000\n",
    "temp_df.loc[(temp_df['job_pay'] == 'No data') & (temp_df['Company Size'] == 'Small'), 'starting_range'] = 500000\n",
    "temp_df.loc[(temp_df['job_pay'] == 'No data') & (temp_df['Company Size'] == 'Very Small'), 'starting_range'] = 200000\n",
    "\n",
    "# For rows where 'starting_range' is 'No data' and 'Company Size' is 'Large', set 'starting_range' to 5\n",
    "temp_df.loc[(temp_df['ending_range'] == 'No data') & (temp_df['Company Size'] == 'Medium'), 'ending_range'] = 700000\n",
    "temp_df.loc[(temp_df['job_pay'] == 'No data') & (temp_df['Company Size'] == 'Medium'), 'starting_range'] = 500000\n",
    "\n",
    "# For rows where 'starting_range' is 'No data' and 'Company Size' is 'Small', set 'starting_range' to 3\n"
   ]
  },
  {
   "cell_type": "code",
   "execution_count": null,
   "metadata": {},
   "outputs": [],
   "source": [
    "temp_df"
   ]
  },
  {
   "cell_type": "code",
   "execution_count": null,
   "metadata": {},
   "outputs": [],
   "source": [
    "\n",
    "\n",
    "def process_value(value):\n",
    "    if isinstance(value, str):\n",
    "        if 'Cr' in value:\n",
    "            return float(value.replace(' Cr', '')) * 10000000\n",
    "        elif ',' in value:\n",
    "            return float(value.replace(',', '')) \n",
    "        else:\n",
    "            return float(value) * 100000\n",
    "    else:\n",
    "        return value\n",
    "\n",
    "# Applying the function to the column\n",
    "temp_df['ending_range'] = temp_df['ending_range'].apply(process_value)\n",
    "# def process_value(value):\n",
    "#     if isinstance(value, str):\n",
    "#         if 'Cr' in value:\n",
    "#             return float(value.replace(' Cr', '')) * 10000000\n",
    "#         elif ',' in value:\n",
    "#             return float(value.replace(',', '')) \n",
    "#         else:\n",
    "#             return float(value) * 100000\n",
    "#     else:\n",
    "#         return value\n",
    "    \n",
    "\n",
    "\n",
    "\n",
    "# # Applying the function to the column\n",
    "temp_df['starting_range'] = temp_df['starting_range'].str.replace(' Lacs', '')\n",
    "temp_df['starting_range'] = temp_df['starting_range'].apply(process_value)"
   ]
  },
  {
   "cell_type": "code",
   "execution_count": null,
   "metadata": {},
   "outputs": [],
   "source": [
    "# temp_df_df"
   ]
  },
  {
   "cell_type": "code",
   "execution_count": null,
   "metadata": {},
   "outputs": [],
   "source": [
    "temp_df.info()"
   ]
  },
  {
   "cell_type": "code",
   "execution_count": null,
   "metadata": {},
   "outputs": [],
   "source": [
    "# temp_df['starting_range'].astype(int)\n",
    "# temp_df['ending_range'].astype(int)\n",
    "temp_df.drop(columns=['Description'],inplace=True)"
   ]
  },
  {
   "cell_type": "code",
   "execution_count": null,
   "metadata": {},
   "outputs": [],
   "source": [
    "temp_df.info()"
   ]
  },
  {
   "cell_type": "code",
   "execution_count": null,
   "metadata": {},
   "outputs": [],
   "source": [
    "# temp_df.drop(temp_df['skill_7'].isnull().index,inplace=True)     \n",
    "temp_df['normalized_salary'] = (temp_df['starting_range'] + temp_df['ending_range']) / 2\n",
    "   "
   ]
  },
  {
   "cell_type": "code",
   "execution_count": null,
   "metadata": {},
   "outputs": [],
   "source": [
    "# temp_df.drop(columns=['skill_10'], inplace=True)\n",
    "temp_df.info()"
   ]
  },
  {
   "cell_type": "code",
   "execution_count": null,
   "metadata": {},
   "outputs": [],
   "source": [
    "temp_df[temp_df['starting_range'].isna()]"
   ]
  },
  {
   "cell_type": "code",
   "execution_count": null,
   "metadata": {},
   "outputs": [],
   "source": [
    "temp_df.to_excel('with_price.xlsx')"
   ]
  },
  {
   "cell_type": "code",
   "execution_count": null,
   "metadata": {},
   "outputs": [],
   "source": [
    "temp_df_protect =  temp_df.copy()"
   ]
  },
  {
   "cell_type": "code",
   "execution_count": null,
   "metadata": {},
   "outputs": [],
   "source": [
    "df = temp_df.copy() \n",
    "# Create a list of unique skills\n",
    "# Example: Define skill sets for job categories\n",
    "unique_skills = set()\n",
    "for i in range(1, 9):\n",
    "    skill_col = f'skill_{i}'\n",
    "    unique_skills.update(df[skill_col].dropna().unique())\n",
    "\n",
    "# Create binary columns for each unique skill\n",
    "for skill in unique_skills:\n",
    "    df[skill] = 0\n",
    "\n",
    "# Populate the binary columns\n",
    "for i in range(1, 9):\n",
    "    skill_col = f'skill_{i}'\n",
    "    for skill in unique_skills:\n",
    "        df[skill] = df[skill] | (df[skill_col] == skill).astype(int)\n",
    "\n",
    "# Step 2: Skill Count\n",
    "# Count non-null skill entries per row\n",
    "df['total_skills'] = df[[f'skill_{i}' for i in range(1, 9)]].notnull().sum(axis=1)\n",
    "\n",
    "# Step 3: Binary Encoding for Job Categories\n",
    "# Get unique job categories\n",
    "unique_job_categories = df['Job Category'].unique()\n",
    "\n",
    "# Create binary columns for each job category\n",
    "for category in unique_job_categories:\n",
    "    df[category] = df['Job Category'] == category\n",
    "\n",
    "# Convert boolean columns to integers (0 or 1)\n",
    "df[unique_job_categories] = df[unique_job_categories].astype(int)\n",
    "\n",
    "# Drop the original skill columns and 'Job Category' column if no longer needed\n",
    "df.drop(columns=[f'skill_{i}' for i in range(1, 9)] + ['Job Category'], inplace=True)\n",
    "\n",
    "df.head()\n"
   ]
  },
  {
   "cell_type": "code",
   "execution_count": null,
   "metadata": {},
   "outputs": [],
   "source": [
    "df.columns\n",
    "\n",
    "temp = pd.DataFrame(index = df.columns)\n",
    "# df.drop(columns=['Company'],inplace=True)\n",
    "temp['data_type'] = df.dtypes\n",
    "temp['unique_value'] = df.nunique()\n",
    "temp['corr_values'] = df.corr()['normalized_salary']\n",
    "temp"
   ]
  },
  {
   "cell_type": "code",
   "execution_count": null,
   "metadata": {},
   "outputs": [],
   "source": [
    "df[]"
   ]
  },
  {
   "cell_type": "code",
   "execution_count": null,
   "metadata": {},
   "outputs": [],
   "source": [
    "df['Data and Analysis'].value_counts()"
   ]
  },
  {
   "cell_type": "code",
   "execution_count": null,
   "metadata": {},
   "outputs": [],
   "source": [
    "df['Job Category']"
   ]
  },
  {
   "cell_type": "code",
   "execution_count": null,
   "metadata": {},
   "outputs": [],
   "source": [
    "import pandas as pd\n",
    "import seaborn as sns\n",
    "import matplotlib.pyplot as plt\n",
    "\n",
    "# Assuming the DataFrame `df` is already prepared as shown in your message\n",
    "\n",
    "# Correlation Analysis\n",
    "correlation_matrix = df.corr()\n",
    "\n",
    "# Select salary-related columns to analyze\n",
    "salary_corr_starting = correlation_matrix['starting_range'].sort_values(ascending=False)\n",
    "salary_corr_ending = correlation_matrix['ending_range'].sort_values(ascending=False)\n",
    "\n",
    "# Display top correlations with starting salary\n",
    "print(\"Top correlations with starting salary:\")\n",
    "print(salary_corr_starting.head(10))\n",
    "\n",
    "# Display top correlations with ending salary\n",
    "print(\"Top correlations with ending salary:\")\n",
    "print(salary_corr_ending.head(10))\n",
    "\n",
    "# Visualization of the correlation matrix for the top features\n",
    "top_features_starting = salary_corr_starting.index[:10]\n",
    "top_features_ending = salary_corr_ending.index[:10]\n",
    "\n",
    "# Combine the unique top features for a comprehensive correlation matrix\n",
    "top_features = list(set(top_features_starting).union(set(top_features_ending)))\n",
    "\n",
    "# Heatmap for top features correlation\n",
    "plt.figure(figsize=(12, 10))\n",
    "sns.heatmap(df[top_features].corr(), annot=True, cmap='coolwarm', vmin=-1, vmax=1)\n",
    "plt.title('Correlation Matrix of Top Features')\n",
    "plt.show()\n",
    "\n",
    "# Visualization: Boxplot of starting salary by total number of skills\n",
    "plt.figure(figsize=(14, 7))\n",
    "sns.boxplot(x='total_skills', y='starting_range', data=df)\n",
    "plt.xticks(rotation=90)\n",
    "plt.title('Starting Salary Range by Total Number of Skills')\n",
    "plt.show()\n",
    "\n",
    "# Visualization: Boxplot of ending salary by job categories\n",
    "plt.figure(figsize=(14, 7))\n",
    "sns.boxplot(x='Data and Analysis', y='ending_range', data=df)\n",
    "plt.xticks(rotation=90)\n",
    "plt.title('Ending Salary Range by Job Category: Data and Analysis')\n",
    "plt.show()\n",
    "\n"
   ]
  },
  {
   "cell_type": "code",
   "execution_count": null,
   "metadata": {},
   "outputs": [],
   "source": [
    "# temp_df = temp_df[~temp_df['skill_3'].isna()]"
   ]
  },
  {
   "cell_type": "code",
   "execution_count": null,
   "metadata": {},
   "outputs": [],
   "source": [
    "temp_df"
   ]
  },
  {
   "cell_type": "code",
   "execution_count": null,
   "metadata": {},
   "outputs": [],
   "source": [
    "# # Assume we have a dictionary of skill importance\n",
    "# skill_importance = {'Python': 5, 'Java': 4, 'SQL': 3, 'Machine Learning': 5, 'Deep Learning': 5,}\n",
    "\n",
    "# # Create a new column for skill score \n",
    "# df['skill_score'] = 0\n",
    "\n",
    "# # Calculate the skill score for each job\n",
    "# for i in range(1, 11):\n",
    "#     skill_col = f'skill_{i}'\n",
    "#     df['skill_score'] += df[skill_col].map(skill_importance).fillna(0)\n",
    "\n",
    "# print(df[['Job_role', 'skill_score']].head())\n"
   ]
  },
  {
   "cell_type": "code",
   "execution_count": null,
   "metadata": {},
   "outputs": [],
   "source": [
    "temp = pd.DataFrame()\n",
    "\n",
    "temp['unique_skill'] = df.nunique()\n",
    "temp['null_value'] = df.isnull().sum()\n",
    "temp['null_value'] = df.isnull().sum()\n",
    "temp"
   ]
  },
  {
   "cell_type": "code",
   "execution_count": null,
   "metadata": {},
   "outputs": [],
   "source": [
    "import matplotlib"
   ]
  }
 ],
 "metadata": {
  "kernelspec": {
   "display_name": "Python 3",
   "language": "python",
   "name": "python3"
  },
  "language_info": {
   "codemirror_mode": {
    "name": "ipython",
    "version": 3
   },
   "file_extension": ".py",
   "mimetype": "text/x-python",
   "name": "python",
   "nbconvert_exporter": "python",
   "pygments_lexer": "ipython3",
   "version": "3.11.4"
  }
 },
 "nbformat": 4,
 "nbformat_minor": 2
}
