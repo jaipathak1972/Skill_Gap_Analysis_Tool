{
 "cells": [
  {
   "cell_type": "code",
   "execution_count": 1,
   "metadata": {},
   "outputs": [],
   "source": [
    "from selenium import webdriver\n",
    "from selenium.webdriver.common.by import By\n",
    "from selenium.webdriver.chrome.service import Service\n",
    "from selenium.webdriver.common.action_chains import ActionChains\n",
    "from selenium.webdriver.common.keys import Keys\n",
    "import time"
   ]
  },
  {
   "cell_type": "code",
   "execution_count": 6,
   "metadata": {},
   "outputs": [
    {
     "ename": "NoSuchElementException",
     "evalue": "Message: no such element: Unable to locate element: {\"method\":\"xpath\",\"selector\":\"//*[@id=\"lastCompMark\"]/a[2]\"}\n  (Session info: chrome=125.0.6422.61); For documentation on this error, please visit: https://www.selenium.dev/documentation/webdriver/troubleshooting/errors#no-such-element-exception\nStacktrace:\n\tGetHandleVerifier [0x00007FF6CF2422C2+60002]\n\t(No symbol) [0x00007FF6CF1BCA59]\n\t(No symbol) [0x00007FF6CF077EDA]\n\t(No symbol) [0x00007FF6CF0C76E6]\n\t(No symbol) [0x00007FF6CF0C77AC]\n\t(No symbol) [0x00007FF6CF10E9D7]\n\t(No symbol) [0x00007FF6CF0EC2CF]\n\t(No symbol) [0x00007FF6CF10BCC7]\n\t(No symbol) [0x00007FF6CF0EC033]\n\t(No symbol) [0x00007FF6CF0B9657]\n\t(No symbol) [0x00007FF6CF0BA251]\n\tGetHandleVerifier [0x00007FF6CF553E2D+3278285]\n\tGetHandleVerifier [0x00007FF6CF5A0190+3590448]\n\tGetHandleVerifier [0x00007FF6CF5961D0+3549552]\n\tGetHandleVerifier [0x00007FF6CF2F1DE6+779654]\n\t(No symbol) [0x00007FF6CF1C7ACF]\n\t(No symbol) [0x00007FF6CF1C2EE4]\n\t(No symbol) [0x00007FF6CF1C3072]\n\t(No symbol) [0x00007FF6CF1B2C4F]\n\tBaseThreadInitThunk [0x00007FFF8F00257D+29]\n\tRtlUserThreadStart [0x00007FFF8FDAAA48+40]\n",
     "output_type": "error",
     "traceback": [
      "\u001b[1;31m---------------------------------------------------------------------------\u001b[0m",
      "\u001b[1;31mNoSuchElementException\u001b[0m                    Traceback (most recent call last)",
      "Cell \u001b[1;32mIn[6], line 31\u001b[0m\n\u001b[0;32m      9\u001b[0m count \u001b[38;5;241m=\u001b[39m \u001b[38;5;241m0\u001b[39m\n\u001b[0;32m     12\u001b[0m \u001b[38;5;66;03m# # Loop until count reaches 110\u001b[39;00m\n\u001b[0;32m     13\u001b[0m \u001b[38;5;66;03m# while count < 2:\u001b[39;00m\n\u001b[0;32m     14\u001b[0m \u001b[38;5;66;03m#     # Find the element using XPath\u001b[39;00m\n\u001b[1;32m   (...)\u001b[0m\n\u001b[0;32m     29\u001b[0m \n\u001b[0;32m     30\u001b[0m \u001b[38;5;66;03m# driver.find_element(By.XPATH, '//*[@id=\"lastCompMark\"]/a[2]').click()\u001b[39;00m\n\u001b[1;32m---> 31\u001b[0m \u001b[43mdriver\u001b[49m\u001b[38;5;241;43m.\u001b[39;49m\u001b[43mfind_element\u001b[49m\u001b[43m(\u001b[49m\u001b[43mBy\u001b[49m\u001b[38;5;241;43m.\u001b[39;49m\u001b[43mXPATH\u001b[49m\u001b[43m,\u001b[49m\u001b[43m \u001b[49m\u001b[38;5;124;43m'\u001b[39;49m\u001b[38;5;124;43m//*[@id=\u001b[39;49m\u001b[38;5;124;43m\"\u001b[39;49m\u001b[38;5;124;43mlastCompMark\u001b[39;49m\u001b[38;5;124;43m\"\u001b[39;49m\u001b[38;5;124;43m]/a[2]\u001b[39;49m\u001b[38;5;124;43m'\u001b[39;49m\u001b[43m)\u001b[49m\u001b[38;5;241m.\u001b[39mclick()\n\u001b[0;32m     34\u001b[0m \u001b[38;5;66;03m# Close the WebDriver\u001b[39;00m\n\u001b[0;32m     35\u001b[0m driver\u001b[38;5;241m.\u001b[39mquit()\n",
      "File \u001b[1;32mc:\\Users\\Dell\\AppData\\Local\\Programs\\Python\\Python311\\Lib\\site-packages\\selenium\\webdriver\\remote\\webdriver.py:738\u001b[0m, in \u001b[0;36mWebDriver.find_element\u001b[1;34m(self, by, value)\u001b[0m\n\u001b[0;32m    735\u001b[0m     by \u001b[38;5;241m=\u001b[39m By\u001b[38;5;241m.\u001b[39mCSS_SELECTOR\n\u001b[0;32m    736\u001b[0m     value \u001b[38;5;241m=\u001b[39m \u001b[38;5;124mf\u001b[39m\u001b[38;5;124m'\u001b[39m\u001b[38;5;124m[name=\u001b[39m\u001b[38;5;124m\"\u001b[39m\u001b[38;5;132;01m{\u001b[39;00mvalue\u001b[38;5;132;01m}\u001b[39;00m\u001b[38;5;124m\"\u001b[39m\u001b[38;5;124m]\u001b[39m\u001b[38;5;124m'\u001b[39m\n\u001b[1;32m--> 738\u001b[0m \u001b[38;5;28;01mreturn\u001b[39;00m \u001b[38;5;28;43mself\u001b[39;49m\u001b[38;5;241;43m.\u001b[39;49m\u001b[43mexecute\u001b[49m\u001b[43m(\u001b[49m\u001b[43mCommand\u001b[49m\u001b[38;5;241;43m.\u001b[39;49m\u001b[43mFIND_ELEMENT\u001b[49m\u001b[43m,\u001b[49m\u001b[43m \u001b[49m\u001b[43m{\u001b[49m\u001b[38;5;124;43m\"\u001b[39;49m\u001b[38;5;124;43musing\u001b[39;49m\u001b[38;5;124;43m\"\u001b[39;49m\u001b[43m:\u001b[49m\u001b[43m \u001b[49m\u001b[43mby\u001b[49m\u001b[43m,\u001b[49m\u001b[43m \u001b[49m\u001b[38;5;124;43m\"\u001b[39;49m\u001b[38;5;124;43mvalue\u001b[39;49m\u001b[38;5;124;43m\"\u001b[39;49m\u001b[43m:\u001b[49m\u001b[43m \u001b[49m\u001b[43mvalue\u001b[49m\u001b[43m}\u001b[49m\u001b[43m)\u001b[49m[\u001b[38;5;124m\"\u001b[39m\u001b[38;5;124mvalue\u001b[39m\u001b[38;5;124m\"\u001b[39m]\n",
      "File \u001b[1;32mc:\\Users\\Dell\\AppData\\Local\\Programs\\Python\\Python311\\Lib\\site-packages\\selenium\\webdriver\\remote\\webdriver.py:344\u001b[0m, in \u001b[0;36mWebDriver.execute\u001b[1;34m(self, driver_command, params)\u001b[0m\n\u001b[0;32m    342\u001b[0m response \u001b[38;5;241m=\u001b[39m \u001b[38;5;28mself\u001b[39m\u001b[38;5;241m.\u001b[39mcommand_executor\u001b[38;5;241m.\u001b[39mexecute(driver_command, params)\n\u001b[0;32m    343\u001b[0m \u001b[38;5;28;01mif\u001b[39;00m response:\n\u001b[1;32m--> 344\u001b[0m     \u001b[38;5;28;43mself\u001b[39;49m\u001b[38;5;241;43m.\u001b[39;49m\u001b[43merror_handler\u001b[49m\u001b[38;5;241;43m.\u001b[39;49m\u001b[43mcheck_response\u001b[49m\u001b[43m(\u001b[49m\u001b[43mresponse\u001b[49m\u001b[43m)\u001b[49m\n\u001b[0;32m    345\u001b[0m     response[\u001b[38;5;124m\"\u001b[39m\u001b[38;5;124mvalue\u001b[39m\u001b[38;5;124m\"\u001b[39m] \u001b[38;5;241m=\u001b[39m \u001b[38;5;28mself\u001b[39m\u001b[38;5;241m.\u001b[39m_unwrap_value(response\u001b[38;5;241m.\u001b[39mget(\u001b[38;5;124m\"\u001b[39m\u001b[38;5;124mvalue\u001b[39m\u001b[38;5;124m\"\u001b[39m, \u001b[38;5;28;01mNone\u001b[39;00m))\n\u001b[0;32m    346\u001b[0m     \u001b[38;5;28;01mreturn\u001b[39;00m response\n",
      "File \u001b[1;32mc:\\Users\\Dell\\AppData\\Local\\Programs\\Python\\Python311\\Lib\\site-packages\\selenium\\webdriver\\remote\\errorhandler.py:229\u001b[0m, in \u001b[0;36mErrorHandler.check_response\u001b[1;34m(self, response)\u001b[0m\n\u001b[0;32m    227\u001b[0m         alert_text \u001b[38;5;241m=\u001b[39m value[\u001b[38;5;124m\"\u001b[39m\u001b[38;5;124malert\u001b[39m\u001b[38;5;124m\"\u001b[39m]\u001b[38;5;241m.\u001b[39mget(\u001b[38;5;124m\"\u001b[39m\u001b[38;5;124mtext\u001b[39m\u001b[38;5;124m\"\u001b[39m)\n\u001b[0;32m    228\u001b[0m     \u001b[38;5;28;01mraise\u001b[39;00m exception_class(message, screen, stacktrace, alert_text)  \u001b[38;5;66;03m# type: ignore[call-arg]  # mypy is not smart enough here\u001b[39;00m\n\u001b[1;32m--> 229\u001b[0m \u001b[38;5;28;01mraise\u001b[39;00m exception_class(message, screen, stacktrace)\n",
      "\u001b[1;31mNoSuchElementException\u001b[0m: Message: no such element: Unable to locate element: {\"method\":\"xpath\",\"selector\":\"//*[@id=\"lastCompMark\"]/a[2]\"}\n  (Session info: chrome=125.0.6422.61); For documentation on this error, please visit: https://www.selenium.dev/documentation/webdriver/troubleshooting/errors#no-such-element-exception\nStacktrace:\n\tGetHandleVerifier [0x00007FF6CF2422C2+60002]\n\t(No symbol) [0x00007FF6CF1BCA59]\n\t(No symbol) [0x00007FF6CF077EDA]\n\t(No symbol) [0x00007FF6CF0C76E6]\n\t(No symbol) [0x00007FF6CF0C77AC]\n\t(No symbol) [0x00007FF6CF10E9D7]\n\t(No symbol) [0x00007FF6CF0EC2CF]\n\t(No symbol) [0x00007FF6CF10BCC7]\n\t(No symbol) [0x00007FF6CF0EC033]\n\t(No symbol) [0x00007FF6CF0B9657]\n\t(No symbol) [0x00007FF6CF0BA251]\n\tGetHandleVerifier [0x00007FF6CF553E2D+3278285]\n\tGetHandleVerifier [0x00007FF6CF5A0190+3590448]\n\tGetHandleVerifier [0x00007FF6CF5961D0+3549552]\n\tGetHandleVerifier [0x00007FF6CF2F1DE6+779654]\n\t(No symbol) [0x00007FF6CF1C7ACF]\n\t(No symbol) [0x00007FF6CF1C2EE4]\n\t(No symbol) [0x00007FF6CF1C3072]\n\t(No symbol) [0x00007FF6CF1B2C4F]\n\tBaseThreadInitThunk [0x00007FFF8F00257D+29]\n\tRtlUserThreadStart [0x00007FFF8FDAAA48+40]\n"
     ]
    }
   ],
   "source": [
    "webdriver_path = r\"C:\\Users\\Dell\\OneDrive\\Desktop\\chromedriver.exe\"\n",
    "service = Service(webdriver_path)\n",
    "driver = webdriver.Chrome(service=service)\n",
    "\n",
    "# Navigate to your webpage\n",
    "driver.get(\"https://www.naukri.com/data-analyst-jobs?k=data+analyst&qproductJobSource=2&naukriCampus=true&experience=0&nignbevent_src=jobsearchDeskGNB\")\n",
    "\n",
    "# Initialize count variable\n",
    "count = 0\n",
    "\n",
    "\n",
    "# # Loop until count reaches 110\n",
    "# while count < 2:\n",
    "#     # Find the element using XPath\n",
    "#     element = driver.find_element(By.XPATH, '//*[@id=\"lastCompMark\"]/a[2]')\n",
    "\n",
    "#     # Scroll the browser window to bring the element into view\n",
    "#     actions = ActionChains(driver)\n",
    "#     actions.move_to_element(element).perform()\n",
    "\n",
    "#     # Click on the element to load more content\n",
    "#     element.click()\n",
    "\n",
    "#     # Increment count\n",
    "#     count += 1\n",
    "\n",
    "#     # Wait for some time for new content to load\n",
    "#     time.sleep(4)  # Adjust the sleep time as per your requirement\n",
    "\n",
    "# driver.find_element(By.XPATH, '//*[@id=\"lastCompMark\"]/a[2]').click()\n",
    "driver.find_element(By.XPATH, '//*[@id=\"listContainer\"]/div[2]/div/div[1]/div').click()\n",
    "\n",
    "\n",
    "# Close the WebDriver\n",
    "driver.quit()"
   ]
  }
 ],
 "metadata": {
  "kernelspec": {
   "display_name": "Python 3",
   "language": "python",
   "name": "python3"
  },
  "language_info": {
   "codemirror_mode": {
    "name": "ipython",
    "version": 3
   },
   "file_extension": ".py",
   "mimetype": "text/x-python",
   "name": "python",
   "nbconvert_exporter": "python",
   "pygments_lexer": "ipython3",
   "version": "3.11.4"
  }
 },
 "nbformat": 4,
 "nbformat_minor": 2
}
